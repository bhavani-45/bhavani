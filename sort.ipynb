{
 "cells": [
  {
   "cell_type": "code",
   "execution_count": 16,
   "id": "b31f4155-5fc3-4276-b7a3-7b97284007ad",
   "metadata": {},
   "outputs": [
    {
     "name": "stdout",
     "output_type": "stream",
     "text": [
      "[87, 89, 90]\n"
     ]
    }
   ],
   "source": [
    "def sort(a,n):\n",
    "    for i in range(n-1):\n",
    "        min=i\n",
    "        for j in range(i+1,n):\n",
    "           if a[j]<a[min]:\n",
    "                min=j\n",
    "        temp=a[i]\n",
    "        a[i]=a[min]\n",
    "        a[min]=temp\n",
    "data=[87,90,89]\n",
    "n=len(data)\n",
    "sort(data,n)\n",
    "print(data)"
   ]
  },
  {
   "cell_type": "code",
   "execution_count": 11,
   "id": "b3d0caeb-c384-42a5-a35c-804aa35c09ad",
   "metadata": {},
   "outputs": [
    {
     "name": "stdout",
     "output_type": "stream",
     "text": [
      "[90, 89, 45]\n"
     ]
    }
   ],
   "source": [
    "def sort(a,n):\n",
    "    for i in range(n-1):\n",
    "        min=i\n",
    "        for j in range(i+1,n):\n",
    "           if a[j]>a[min]:\n",
    "                min=j\n",
    "        temp=a[i]\n",
    "        a[i]=a[min]\n",
    "        a[min]=temp\n",
    "data=[45,90,89]\n",
    "n=len(data)\n",
    "sort(data,n)\n",
    "print(data)"
   ]
  },
  {
   "cell_type": "code",
   "execution_count": 24,
   "id": "26058553-9261-40f1-838b-a7286e7d6eec",
   "metadata": {},
   "outputs": [
    {
     "name": "stdout",
     "output_type": "stream",
     "text": [
      "[89, 45, 90]\n"
     ]
    }
   ],
   "source": [
    "def sort(a,n):\n",
    "    for i in range(n-1):\n",
    "        min=i\n",
    "        for j in range(i+1,n):\n",
    "           if a[j]<a[min]:\n",
    "                min=j\n",
    "        (a[i],a[j])=(a[j],a[i])\n",
    "data=[45,90,89]\n",
    "n=len(data)\n",
    "sort(data,n)\n",
    "print(data)"
   ]
  },
  {
   "cell_type": "code",
   "execution_count": 31,
   "id": "46a0b4ad-ea63-4fee-8f01-d920a60c44f8",
   "metadata": {},
   "outputs": [
    {
     "name": "stdout",
     "output_type": "stream",
     "text": [
      "[1, 8, 2, 9]\n",
      "[1, 2, 8, 9]\n",
      "[1, 2, 8, 9]\n",
      "[1, 2, 8, 9]\n",
      "[1, 2, 8, 9]\n"
     ]
    }
   ],
   "source": [
    "def sort(nums):\n",
    "    for i in range(len(nums)):\n",
    "        min=i\n",
    "        for j in range(i,len(nums)):\n",
    "            if nums[j]<nums[min]:\n",
    "                min=j\n",
    "        temp=nums[i]\n",
    "        nums[i]=nums[min]\n",
    "        nums[min]=temp\n",
    "        print(nums)\n",
    "nums=[2,8,1,9]\n",
    "sort(nums)\n",
    "print(nums)"
   ]
  },
  {
   "cell_type": "code",
   "execution_count": 43,
   "id": "ba8d7b10-c4ee-426c-b82b-ce4ff1741e98",
   "metadata": {},
   "outputs": [
    {
     "name": "stdout",
     "output_type": "stream",
     "text": [
      "[9, 1, 8, 2]\n"
     ]
    }
   ],
   "source": [
    "def sort(nums):\n",
    "    for i in range(len(nums)):\n",
    "        min=i\n",
    "        for j in range(i,len(nums)):\n",
    "            if nums[j]<nums[min]:\n",
    "                min=j\n",
    "            (nums[i],nums[j])=(nums[j],nums[i])\n",
    "nums=[2,8,1,9]\n",
    "sort(nums)\n",
    "print(nums)"
   ]
  },
  {
   "cell_type": "code",
   "execution_count": null,
   "id": "a51c2dc4-41ca-4e02-b1dd-96521abb1fd0",
   "metadata": {},
   "outputs": [],
   "source": []
  }
 ],
 "metadata": {
  "kernelspec": {
   "display_name": "Python 3 (ipykernel)",
   "language": "python",
   "name": "python3"
  },
  "language_info": {
   "codemirror_mode": {
    "name": "ipython",
    "version": 3
   },
   "file_extension": ".py",
   "mimetype": "text/x-python",
   "name": "python",
   "nbconvert_exporter": "python",
   "pygments_lexer": "ipython3",
   "version": "3.12.4"
  }
 },
 "nbformat": 4,
 "nbformat_minor": 5
}
