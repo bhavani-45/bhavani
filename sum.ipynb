{
 "cells": [
  {
   "cell_type": "code",
   "execution_count": 7,
   "id": "20bb4bcb-8206-4f56-9744-96fe4b32887c",
   "metadata": {},
   "outputs": [
    {
     "name": "stdin",
     "output_type": "stream",
     "text": [
      "enter n:  2\n"
     ]
    },
    {
     "name": "stdout",
     "output_type": "stream",
     "text": [
      "Sum: 5\n"
     ]
    }
   ],
   "source": [
    "n = int(input(\"enter n: \"))\n",
    "i = 1  # Initialize i\n",
    "sum = 0  # Initialize sum\n",
    "\n",
    "while i <= n:  # The condition should be i <= n, not i >= n\n",
    "    sum = sum + i*i  # Add i to sum\n",
    "    i = i + 1  # Increment i\n",
    "\n",
    "print(\"Sum:\", sum)  # Print the sum after the loop\n"
   ]
  },
  {
   "cell_type": "code",
   "execution_count": 11,
   "id": "270d786d-bc0f-44fb-8df9-b89fa56de57f",
   "metadata": {},
   "outputs": [
    {
     "name": "stdin",
     "output_type": "stream",
     "text": [
      "enter n: 4\n"
     ]
    },
    {
     "name": "stdout",
     "output_type": "stream",
     "text": [
      "sum: 1\n",
      "sum: 3\n",
      "sum: 6\n",
      "sum: 10\n"
     ]
    }
   ],
   "source": [
    "n=int(input(\"enter n:\"))\n",
    "i=1\n",
    "sum=0\n",
    "while i<=n:\n",
    "    sum=sum+i\n",
    "    i=i+1\n",
    "    print(\"sum:\",sum)\n",
    "         "
   ]
  },
  {
   "cell_type": "code",
   "execution_count": null,
   "id": "fafb79c8-f1e5-42f1-80c6-3d645851c164",
   "metadata": {},
   "outputs": [],
   "source": []
  }
 ],
 "metadata": {
  "kernelspec": {
   "display_name": "Python 3 (ipykernel)",
   "language": "python",
   "name": "python3"
  },
  "language_info": {
   "codemirror_mode": {
    "name": "ipython",
    "version": 3
   },
   "file_extension": ".py",
   "mimetype": "text/x-python",
   "name": "python",
   "nbconvert_exporter": "python",
   "pygments_lexer": "ipython3",
   "version": "3.12.4"
  }
 },
 "nbformat": 4,
 "nbformat_minor": 5
}
