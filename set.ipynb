{
 "cells": [
  {
   "cell_type": "code",
   "execution_count": 17,
   "id": "6500dace-49d6-4b8a-849f-506f92d66122",
   "metadata": {},
   "outputs": [
    {
     "ename": "TypeError",
     "evalue": "'set' object is not callable",
     "output_type": "error",
     "traceback": [
      "\u001b[1;31m---------------------------------------------------------------------------\u001b[0m",
      "\u001b[1;31mTypeError\u001b[0m                                 Traceback (most recent call last)",
      "Cell \u001b[1;32mIn[17], line 3\u001b[0m\n\u001b[0;32m      1\u001b[0m my_set\u001b[38;5;241m=\u001b[39m{\u001b[38;5;241m2\u001b[39m,\u001b[38;5;241m4\u001b[39m,\u001b[38;5;241m5\u001b[39m,\u001b[38;5;241m6\u001b[39m}\n\u001b[0;32m      2\u001b[0m my_tuple\u001b[38;5;241m=\u001b[39m(\u001b[38;5;241m1\u001b[39m,\u001b[38;5;241m4\u001b[39m,\u001b[38;5;241m6\u001b[39m,\u001b[38;5;241m7\u001b[39m)\n\u001b[1;32m----> 3\u001b[0m new\u001b[38;5;241m=\u001b[39m\u001b[38;5;28mset\u001b[39m(my_tuple)\n\u001b[0;32m      4\u001b[0m union\u001b[38;5;241m=\u001b[39mmy_set \u001b[38;5;241m&\u001b[39m new\n\u001b[0;32m      5\u001b[0m \u001b[38;5;28mprint\u001b[39m(union)\n",
      "\u001b[1;31mTypeError\u001b[0m: 'set' object is not callable"
     ]
    }
   ],
   "source": [
    "my_set={2,4,5,6}\n",
    "my_tuple=(1,4,6,7)\n",
    "new=set(my_tuple)\n",
    "union=my_set & new\n",
    "print(union)"
   ]
  },
  {
   "cell_type": "code",
   "execution_count": 29,
   "id": "85d74e85-2030-4885-a8e5-76cde28f9a31",
   "metadata": {},
   "outputs": [
    {
     "name": "stdout",
     "output_type": "stream",
     "text": [
      "[2, 3, 4, 5]\n"
     ]
    },
    {
     "ename": "TypeError",
     "evalue": "'tuple' object is not callable",
     "output_type": "error",
     "traceback": [
      "\u001b[1;31m---------------------------------------------------------------------------\u001b[0m",
      "\u001b[1;31mTypeError\u001b[0m                                 Traceback (most recent call last)",
      "Cell \u001b[1;32mIn[29], line 5\u001b[0m\n\u001b[0;32m      3\u001b[0m \u001b[38;5;28mprint\u001b[39m(new_list)\n\u001b[0;32m      4\u001b[0m new_list\u001b[38;5;241m.\u001b[39msort()\n\u001b[1;32m----> 5\u001b[0m new_tuple\u001b[38;5;241m=\u001b[39m\u001b[38;5;28mtuple\u001b[39m(new_list)\n\u001b[0;32m      6\u001b[0m \u001b[38;5;28mprint\u001b[39m(new_tuple)\n",
      "\u001b[1;31mTypeError\u001b[0m: 'tuple' object is not callable"
     ]
    }
   ],
   "source": [
    "my_set={2,3,4,5}\n",
    "new_list=list(my_set)\n",
    "print(new_list)\n",
    "new_list.sort()\n",
    "new_tuple=tuple(new_list)\n",
    "print(new_tuple)"
   ]
  },
  {
   "cell_type": "code",
   "execution_count": null,
   "id": "f1ea90de-ee7a-4620-b716-8a1f3453d263",
   "metadata": {},
   "outputs": [],
   "source": []
  }
 ],
 "metadata": {
  "kernelspec": {
   "display_name": "Python 3 (ipykernel)",
   "language": "python",
   "name": "python3"
  },
  "language_info": {
   "codemirror_mode": {
    "name": "ipython",
    "version": 3
   },
   "file_extension": ".py",
   "mimetype": "text/x-python",
   "name": "python",
   "nbconvert_exporter": "python",
   "pygments_lexer": "ipython3",
   "version": "3.12.4"
  }
 },
 "nbformat": 4,
 "nbformat_minor": 5
}
